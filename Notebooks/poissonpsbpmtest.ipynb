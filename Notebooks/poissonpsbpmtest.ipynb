{
 "cells": [
  {
   "cell_type": "code",
   "execution_count": 156,
   "metadata": {
    "collapsed": false
   },
   "outputs": [],
   "source": [
    "using Distributions,Gadfly,StatsFuns,InplaceOps\n",
    "include(\"/home/seth/code/sparse_normal_categorical/normal_probit_gibbs.jl\")\n",
    "\n",
    "n = 150;\n",
    "y = [rand(Poisson(1),div(n,3)); rand(Poisson(3),div(n,3));rand(Poisson(5),div(n,3))];\n",
    "ll = (y::Int64,lambda::Float64) -> logpdf(Poisson(lambda),y);\n",
    "prior = Dict{Symbol,Union{Int64,Float64,Array{Float64}}}(\n",
    ":K=>10,:a0=>1.0,:b0=>3.0,:SigmaB0=>eye(1),:theta0=>rand(Gamma(1.0,1/3),10));"
   ]
  },
  {
   "cell_type": "code",
   "execution_count": 157,
   "metadata": {
    "collapsed": false
   },
   "outputs": [],
   "source": [
    "psbpm(y,[],ll,sample_poisson,prior,0,1,2);"
   ]
  }
 ],
 "metadata": {
  "kernelspec": {
   "display_name": "Julia 0.4.3-pre",
   "language": "julia",
   "name": "julia-0.4"
  },
  "language_info": {
   "file_extension": ".jl",
   "mimetype": "application/julia",
   "name": "julia",
   "version": "0.4.3"
  }
 },
 "nbformat": 4,
 "nbformat_minor": 0
}
