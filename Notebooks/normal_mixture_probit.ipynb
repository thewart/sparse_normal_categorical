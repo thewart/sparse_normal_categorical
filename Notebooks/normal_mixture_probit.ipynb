{
 "cells": [
  {
   "cell_type": "code",
   "execution_count": 2,
   "metadata": {
    "collapsed": false
   },
   "outputs": [],
   "source": [
    "using Distributions, Gadfly"
   ]
  },
  {
   "cell_type": "code",
   "execution_count": 115,
   "metadata": {
    "collapsed": false
   },
   "outputs": [],
   "source": [
    "se = 0.5;\n",
    "d = 3;\n",
    "iter = 1000;\n",
    "nsamp = 10000;\n"
   ]
  },
  {
   "cell_type": "code",
   "execution_count": 116,
   "metadata": {
    "collapsed": false
   },
   "outputs": [],
   "source": [
    "x = zeros(Bool,(d,nsamp));\n",
    "w = rand(Normal(),d-1) .+ rand(Normal(0,se),(d-1,nsamp));\n",
    "for j in 1:nsamp\n",
    "    k = (maximum(w[:,j]) > 0) ? findmax(w[:,j])[2] : 0;\n",
    "    x[k+1,j] = true\n",
    "end"
   ]
  },
  {
   "cell_type": "code",
   "execution_count": 117,
   "metadata": {
    "collapsed": false
   },
   "outputs": [
    {
     "data": {
      "text/plain": [
       "3x1 Array{Float64,2}:\n",
       " 0.083\n",
       " 0.0  \n",
       " 0.917"
      ]
     },
     "execution_count": 117,
     "metadata": {},
     "output_type": "execute_result"
    }
   ],
   "source": [
    "mean(x,2)"
   ]
  }
 ],
 "metadata": {
  "kernelspec": {
   "display_name": "Julia 0.4.3-pre",
   "language": "julia",
   "name": "julia-0.4"
  },
  "language_info": {
   "file_extension": ".jl",
   "mimetype": "application/julia",
   "name": "julia",
   "version": "0.4.3"
  }
 },
 "nbformat": 4,
 "nbformat_minor": 0
}
